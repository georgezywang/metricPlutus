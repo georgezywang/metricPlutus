{
 "cells": [
  {
   "cell_type": "code",
   "execution_count": 1,
   "metadata": {},
   "outputs": [],
   "source": [
    "import pandas as pd\n",
    "import numpy as np\n",
    "import matplotlib.pylab as plt\n",
    "%matplotlib inline"
   ]
  },
  {
   "cell_type": "code",
   "execution_count": 2,
   "metadata": {},
   "outputs": [],
   "source": [
    "df = pd.read_csv('cov_data.csv')"
   ]
  },
  {
   "cell_type": "code",
   "execution_count": 4,
   "metadata": {},
   "outputs": [
    {
     "data": {
      "text/plain": [
       "(15300, 12)"
      ]
     },
     "execution_count": 4,
     "metadata": {},
     "output_type": "execute_result"
    }
   ],
   "source": [
    "df.shape"
   ]
  },
  {
   "cell_type": "code",
   "execution_count": null,
   "metadata": {},
   "outputs": [],
   "source": [
    "'''\n",
    "V3: daily increase\n",
    "V4: cumulative case\n",
    "V5: income\n",
    "V6: employment for low income\n",
    "V7: .. medium income\n",
    "V8: .. high income\n",
    "V9: population\n",
    "V10: mobility\n",
    "V11: State ID\n",
    "'''"
   ]
  },
  {
   "cell_type": "code",
   "execution_count": 317,
   "metadata": {},
   "outputs": [],
   "source": [
    "url = 'https://raw.githubusercontent.com/OpportunityInsights/EconomicTracker/main/data/Employment%20Combined%20-%20City%20-%20Daily.csv'\n",
    "df2 = pd.read_csv(url)"
   ]
  },
  {
   "cell_type": "code",
   "execution_count": 576,
   "metadata": {},
   "outputs": [],
   "source": [
    "url = 'https://raw.githubusercontent.com/OpportunityInsights/EconomicTracker/main/data/Google%20Mobility%20-%20City%20-%20Daily.csv'\n",
    "df3 = pd.read_csv(url)"
   ]
  },
  {
   "cell_type": "code",
   "execution_count": 915,
   "metadata": {},
   "outputs": [],
   "source": [
    "df_geo = df3.groupby('cityid').get_group(17)"
   ]
  },
  {
   "cell_type": "code",
   "execution_count": 874,
   "metadata": {},
   "outputs": [
    {
     "data": {
      "text/html": [
       "<div>\n",
       "<style scoped>\n",
       "    .dataframe tbody tr th:only-of-type {\n",
       "        vertical-align: middle;\n",
       "    }\n",
       "\n",
       "    .dataframe tbody tr th {\n",
       "        vertical-align: top;\n",
       "    }\n",
       "\n",
       "    .dataframe thead th {\n",
       "        text-align: right;\n",
       "    }\n",
       "</style>\n",
       "<table border=\"1\" class=\"dataframe\">\n",
       "  <thead>\n",
       "    <tr style=\"text-align: right;\">\n",
       "      <th></th>\n",
       "      <th>year</th>\n",
       "      <th>month</th>\n",
       "      <th>day</th>\n",
       "      <th>cityid</th>\n",
       "      <th>gps_retail_and_recreation</th>\n",
       "      <th>gps_grocery_and_pharmacy</th>\n",
       "      <th>gps_parks</th>\n",
       "      <th>gps_transit_stations</th>\n",
       "      <th>gps_workplaces</th>\n",
       "      <th>gps_residential</th>\n",
       "      <th>gps_away_from_home</th>\n",
       "    </tr>\n",
       "  </thead>\n",
       "  <tbody>\n",
       "    <tr>\n",
       "      <th>2</th>\n",
       "      <td>2020</td>\n",
       "      <td>2</td>\n",
       "      <td>24</td>\n",
       "      <td>3</td>\n",
       "      <td>0.0400</td>\n",
       "      <td>0.0271</td>\n",
       "      <td>.281</td>\n",
       "      <td>.0329</td>\n",
       "      <td>0.0257</td>\n",
       "      <td>-0.00857</td>\n",
       "      <td>0.0147</td>\n",
       "    </tr>\n",
       "    <tr>\n",
       "      <th>55</th>\n",
       "      <td>2020</td>\n",
       "      <td>2</td>\n",
       "      <td>25</td>\n",
       "      <td>3</td>\n",
       "      <td>0.0371</td>\n",
       "      <td>0.0243</td>\n",
       "      <td>.269</td>\n",
       "      <td>.0257</td>\n",
       "      <td>0.0257</td>\n",
       "      <td>-0.00714</td>\n",
       "      <td>0.0133</td>\n",
       "    </tr>\n",
       "    <tr>\n",
       "      <th>108</th>\n",
       "      <td>2020</td>\n",
       "      <td>2</td>\n",
       "      <td>26</td>\n",
       "      <td>3</td>\n",
       "      <td>0.0343</td>\n",
       "      <td>0.0243</td>\n",
       "      <td>.263</td>\n",
       "      <td>.0214</td>\n",
       "      <td>0.0214</td>\n",
       "      <td>-0.00571</td>\n",
       "      <td>0.0117</td>\n",
       "    </tr>\n",
       "    <tr>\n",
       "      <th>161</th>\n",
       "      <td>2020</td>\n",
       "      <td>2</td>\n",
       "      <td>27</td>\n",
       "      <td>3</td>\n",
       "      <td>0.0400</td>\n",
       "      <td>0.0286</td>\n",
       "      <td>.266</td>\n",
       "      <td>.0229</td>\n",
       "      <td>0.0214</td>\n",
       "      <td>-0.00571</td>\n",
       "      <td>0.0117</td>\n",
       "    </tr>\n",
       "    <tr>\n",
       "      <th>214</th>\n",
       "      <td>2020</td>\n",
       "      <td>2</td>\n",
       "      <td>28</td>\n",
       "      <td>3</td>\n",
       "      <td>0.0471</td>\n",
       "      <td>0.0329</td>\n",
       "      <td>.267</td>\n",
       "      <td>.0257</td>\n",
       "      <td>0.0186</td>\n",
       "      <td>-0.00714</td>\n",
       "      <td>0.0131</td>\n",
       "    </tr>\n",
       "  </tbody>\n",
       "</table>\n",
       "</div>"
      ],
      "text/plain": [
       "     year  month  day  cityid  gps_retail_and_recreation  \\\n",
       "2    2020      2   24       3                     0.0400   \n",
       "55   2020      2   25       3                     0.0371   \n",
       "108  2020      2   26       3                     0.0343   \n",
       "161  2020      2   27       3                     0.0400   \n",
       "214  2020      2   28       3                     0.0471   \n",
       "\n",
       "     gps_grocery_and_pharmacy gps_parks gps_transit_stations  gps_workplaces  \\\n",
       "2                      0.0271      .281                .0329          0.0257   \n",
       "55                     0.0243      .269                .0257          0.0257   \n",
       "108                    0.0243      .263                .0214          0.0214   \n",
       "161                    0.0286      .266                .0229          0.0214   \n",
       "214                    0.0329      .267                .0257          0.0186   \n",
       "\n",
       "     gps_residential  gps_away_from_home  \n",
       "2           -0.00857              0.0147  \n",
       "55          -0.00714              0.0133  \n",
       "108         -0.00571              0.0117  \n",
       "161         -0.00571              0.0117  \n",
       "214         -0.00714              0.0131  "
      ]
     },
     "execution_count": 874,
     "metadata": {},
     "output_type": "execute_result"
    }
   ],
   "source": [
    "df_geo.head()"
   ]
  },
  {
   "cell_type": "code",
   "execution_count": 916,
   "metadata": {},
   "outputs": [],
   "source": [
    "data = np.asarray(df_geo['gps_workplaces']).tolist()"
   ]
  },
  {
   "cell_type": "code",
   "execution_count": 876,
   "metadata": {},
   "outputs": [
    {
     "data": {
      "text/plain": [
       "[0.0257,\n",
       " 0.0257,\n",
       " 0.0214,\n",
       " 0.0214,\n",
       " 0.0186,\n",
       " 0.0171,\n",
       " 0.0171,\n",
       " 0.0114,\n",
       " 0.0114,\n",
       " 0.0157,\n",
       " 0.0157,\n",
       " 0.0171,\n",
       " 0.0186,\n",
       " 0.0171,\n",
       " 0.0186,\n",
       " 0.0171,\n",
       " 0.0143,\n",
       " 0.00857,\n",
       " -0.00143,\n",
       " -0.0114,\n",
       " -0.0257,\n",
       " -0.0571,\n",
       " -0.109,\n",
       " -0.16399999999999998,\n",
       " -0.221,\n",
       " -0.276,\n",
       " -0.317,\n",
       " -0.36700000000000005,\n",
       " -0.413,\n",
       " -0.44,\n",
       " -0.461,\n",
       " -0.48100000000000004,\n",
       " -0.499,\n",
       " -0.513,\n",
       " -0.516,\n",
       " -0.517,\n",
       " -0.52,\n",
       " -0.523,\n",
       " -0.524,\n",
       " -0.526,\n",
       " -0.527,\n",
       " -0.527,\n",
       " -0.529,\n",
       " -0.53,\n",
       " -0.531,\n",
       " -0.534,\n",
       " -0.5429999999999999,\n",
       " -0.546,\n",
       " -0.551,\n",
       " -0.551,\n",
       " -0.55,\n",
       " -0.5489999999999999,\n",
       " -0.544,\n",
       " -0.536,\n",
       " -0.527,\n",
       " -0.516,\n",
       " -0.513,\n",
       " -0.511,\n",
       " -0.51,\n",
       " -0.51,\n",
       " -0.509,\n",
       " -0.513,\n",
       " -0.511,\n",
       " -0.511,\n",
       " -0.511,\n",
       " -0.513,\n",
       " -0.511,\n",
       " -0.509,\n",
       " -0.5,\n",
       " -0.494,\n",
       " -0.491,\n",
       " -0.49,\n",
       " -0.486,\n",
       " -0.483,\n",
       " -0.48100000000000004,\n",
       " -0.47700000000000004,\n",
       " -0.479,\n",
       " -0.479,\n",
       " -0.474,\n",
       " -0.47100000000000003,\n",
       " -0.473,\n",
       " -0.47100000000000003,\n",
       " -0.47,\n",
       " -0.47,\n",
       " -0.469,\n",
       " -0.469,\n",
       " -0.467,\n",
       " -0.46299999999999997,\n",
       " -0.46,\n",
       " -0.456,\n",
       " -0.446,\n",
       " -0.48100000000000004,\n",
       " -0.44299999999999995,\n",
       " -0.44,\n",
       " -0.43700000000000006,\n",
       " -0.433,\n",
       " -0.419,\n",
       " -0.413,\n",
       " -0.414,\n",
       " -0.414,\n",
       " -0.413,\n",
       " -0.409,\n",
       " -0.40700000000000003,\n",
       " -0.40700000000000003,\n",
       " -0.4,\n",
       " -0.387,\n",
       " -0.381,\n",
       " -0.377,\n",
       " -0.374,\n",
       " -0.371,\n",
       " -0.366,\n",
       " -0.36,\n",
       " -0.359,\n",
       " -0.35600000000000004,\n",
       " -0.354,\n",
       " -0.354,\n",
       " -0.354,\n",
       " -0.35600000000000004,\n",
       " -0.354,\n",
       " -0.359,\n",
       " -0.36,\n",
       " -0.36,\n",
       " -0.359,\n",
       " -0.359,\n",
       " -0.35700000000000004,\n",
       " -0.35600000000000004,\n",
       " -0.35100000000000003,\n",
       " -0.349,\n",
       " -0.34700000000000003,\n",
       " -0.349,\n",
       " -0.373,\n",
       " -0.38,\n",
       " -0.359,\n",
       " -0.353,\n",
       " -0.35600000000000004,\n",
       " -0.35700000000000004,\n",
       " -0.35600000000000004,\n",
       " -0.354,\n",
       " -0.354,\n",
       " -0.35700000000000004,\n",
       " -0.354,\n",
       " -0.353,\n",
       " -0.35100000000000003,\n",
       " -0.35,\n",
       " -0.349,\n",
       " -0.35,\n",
       " -0.354,\n",
       " -0.354,\n",
       " -0.354,\n",
       " -0.353,\n",
       " -0.353,\n",
       " -0.353,\n",
       " -0.35100000000000003,\n",
       " -0.349,\n",
       " -0.349,\n",
       " -0.34700000000000003,\n",
       " -0.35,\n",
       " -0.35100000000000003,\n",
       " -0.353,\n",
       " -0.354,\n",
       " -0.354,\n",
       " -0.354,\n",
       " -0.354,\n",
       " -0.353,\n",
       " -0.35100000000000003,\n",
       " -0.35,\n",
       " -0.35,\n",
       " -0.349,\n",
       " -0.353,\n",
       " -0.35600000000000004,\n",
       " -0.35600000000000004,\n",
       " -0.35700000000000004,\n",
       " -0.35700000000000004,\n",
       " -0.35700000000000004,\n",
       " -0.35700000000000004,\n",
       " -0.353,\n",
       " -0.349,\n",
       " -0.349,\n",
       " -0.34700000000000003,\n",
       " -0.34700000000000003,\n",
       " -0.34600000000000003,\n",
       " -0.34600000000000003,\n",
       " -0.344,\n",
       " -0.34600000000000003,\n",
       " -0.344,\n",
       " -0.34299999999999997,\n",
       " -0.341,\n",
       " -0.34,\n",
       " -0.336,\n",
       " -0.33399999999999996,\n",
       " -0.33399999999999996,\n",
       " -0.33299999999999996,\n",
       " -0.33299999999999996,\n",
       " -0.33299999999999996,\n",
       " -0.337,\n",
       " -0.344,\n",
       " -0.39,\n",
       " -0.34700000000000003,\n",
       " -0.349,\n",
       " -0.349,\n",
       " -0.34700000000000003,\n",
       " -0.344,\n",
       " -0.33399999999999996,\n",
       " -0.33,\n",
       " -0.321,\n",
       " -0.317,\n",
       " -0.314,\n",
       " -0.311,\n",
       " -0.307,\n",
       " -0.309,\n",
       " -0.31,\n",
       " -0.311,\n",
       " -0.311,\n",
       " -0.31,\n",
       " -0.31,\n",
       " -0.31,\n",
       " -0.309,\n",
       " -0.309,\n",
       " -0.307,\n",
       " -0.307,\n",
       " -0.306,\n",
       " -0.304,\n",
       " -0.304,\n",
       " -0.306,\n",
       " -0.304,\n",
       " -0.304,\n",
       " -0.303,\n",
       " -0.304,\n",
       " -0.306,\n",
       " -0.304,\n",
       " -0.301,\n",
       " -0.31,\n",
       " -0.301,\n",
       " -0.301,\n",
       " -0.301,\n",
       " -0.301,\n",
       " -0.303,\n",
       " -0.31,\n",
       " -0.311,\n",
       " -0.311,\n",
       " -0.311,\n",
       " -0.311,\n",
       " -0.313]"
      ]
     },
     "execution_count": 876,
     "metadata": {},
     "output_type": "execute_result"
    }
   ],
   "source": [
    "data"
   ]
  },
  {
   "cell_type": "code",
   "execution_count": 318,
   "metadata": {},
   "outputs": [
    {
     "data": {
      "text/html": [
       "<div>\n",
       "<style scoped>\n",
       "    .dataframe tbody tr th:only-of-type {\n",
       "        vertical-align: middle;\n",
       "    }\n",
       "\n",
       "    .dataframe tbody tr th {\n",
       "        vertical-align: top;\n",
       "    }\n",
       "\n",
       "    .dataframe thead th {\n",
       "        text-align: right;\n",
       "    }\n",
       "</style>\n",
       "<table border=\"1\" class=\"dataframe\">\n",
       "  <thead>\n",
       "    <tr style=\"text-align: right;\">\n",
       "      <th></th>\n",
       "      <th>year</th>\n",
       "      <th>month</th>\n",
       "      <th>day</th>\n",
       "      <th>cityid</th>\n",
       "      <th>emp_combined</th>\n",
       "      <th>emp_combined_inclow</th>\n",
       "      <th>emp_combined_incmiddle</th>\n",
       "      <th>emp_combined_inchigh</th>\n",
       "    </tr>\n",
       "  </thead>\n",
       "  <tbody>\n",
       "    <tr>\n",
       "      <th>0</th>\n",
       "      <td>2020</td>\n",
       "      <td>1</td>\n",
       "      <td>14</td>\n",
       "      <td>1</td>\n",
       "      <td>-.00621</td>\n",
       "      <td>.00219</td>\n",
       "      <td>-.0083</td>\n",
       "      <td>-.0044</td>\n",
       "    </tr>\n",
       "    <tr>\n",
       "      <th>1</th>\n",
       "      <td>2020</td>\n",
       "      <td>1</td>\n",
       "      <td>14</td>\n",
       "      <td>2</td>\n",
       "      <td>-.00543</td>\n",
       "      <td>-.00912</td>\n",
       "      <td>-.00489</td>\n",
       "      <td>-.00558</td>\n",
       "    </tr>\n",
       "    <tr>\n",
       "      <th>2</th>\n",
       "      <td>2020</td>\n",
       "      <td>1</td>\n",
       "      <td>14</td>\n",
       "      <td>3</td>\n",
       "      <td>-.00551</td>\n",
       "      <td>-.0103</td>\n",
       "      <td>-.00508</td>\n",
       "      <td>-.00317</td>\n",
       "    </tr>\n",
       "    <tr>\n",
       "      <th>3</th>\n",
       "      <td>2020</td>\n",
       "      <td>1</td>\n",
       "      <td>14</td>\n",
       "      <td>4</td>\n",
       "      <td>-.00986</td>\n",
       "      <td>.</td>\n",
       "      <td>-.0145</td>\n",
       "      <td>-.0046</td>\n",
       "    </tr>\n",
       "    <tr>\n",
       "      <th>4</th>\n",
       "      <td>2020</td>\n",
       "      <td>1</td>\n",
       "      <td>14</td>\n",
       "      <td>5</td>\n",
       "      <td>-.00442</td>\n",
       "      <td>-.00225</td>\n",
       "      <td>-.00619</td>\n",
       "      <td>-.00253</td>\n",
       "    </tr>\n",
       "  </tbody>\n",
       "</table>\n",
       "</div>"
      ],
      "text/plain": [
       "   year  month  day  cityid emp_combined emp_combined_inclow  \\\n",
       "0  2020      1   14       1      -.00621              .00219   \n",
       "1  2020      1   14       2      -.00543             -.00912   \n",
       "2  2020      1   14       3      -.00551              -.0103   \n",
       "3  2020      1   14       4      -.00986                   .   \n",
       "4  2020      1   14       5      -.00442             -.00225   \n",
       "\n",
       "  emp_combined_incmiddle emp_combined_inchigh  \n",
       "0                 -.0083               -.0044  \n",
       "1                -.00489              -.00558  \n",
       "2                -.00508              -.00317  \n",
       "3                 -.0145               -.0046  \n",
       "4                -.00619              -.00253  "
      ]
     },
     "execution_count": 318,
     "metadata": {},
     "output_type": "execute_result"
    }
   ],
   "source": [
    "df2.head()"
   ]
  },
  {
   "cell_type": "code",
   "execution_count": 319,
   "metadata": {},
   "outputs": [],
   "source": [
    "df_la = df2.groupby('cityid').get_group(1)\n",
    "df_chicago = df2.groupby('cityid').get_group(3)\n",
    "df_charlotte = df2.groupby('cityid').get_group(17)"
   ]
  },
  {
   "cell_type": "code",
   "execution_count": 845,
   "metadata": {},
   "outputs": [],
   "source": [
    "data = np.asarray(df_charlotte['emp_combined_inchigh']).tolist()"
   ]
  },
  {
   "cell_type": "code",
   "execution_count": 917,
   "metadata": {},
   "outputs": [],
   "source": [
    "data = [float(i) for i in data]\n",
    "data = [i+1 for i in data]"
   ]
  },
  {
   "cell_type": "code",
   "execution_count": null,
   "metadata": {},
   "outputs": [],
   "source": []
  },
  {
   "cell_type": "code",
   "execution_count": 12,
   "metadata": {},
   "outputs": [
    {
     "name": "stderr",
     "output_type": "stream",
     "text": [
      "/opt/anaconda3/lib/python3.7/site-packages/statsmodels/tools/_testing.py:19: FutureWarning: pandas.util.testing is deprecated. Use the functions in the public API at pandas.testing instead.\n",
      "  import pandas.util.testing as tm\n"
     ]
    }
   ],
   "source": [
    "from statsmodels.tsa.arima_model import ARIMA"
   ]
  },
  {
   "cell_type": "code",
   "execution_count": 313,
   "metadata": {},
   "outputs": [],
   "source": [
    "#data = np.asarray(df_cal['V10']).tolist()"
   ]
  },
  {
   "cell_type": "code",
   "execution_count": 14,
   "metadata": {},
   "outputs": [],
   "source": [
    "def getPrediction(data, order = (1,0,5)):\n",
    "    model = ARIMA(data, order)\n",
    "    model_fit = model.fit()\n",
    "    yhat = model_fit.predict(1, len(data)+300, 'levels')\n",
    "    return yhat"
   ]
  },
  {
   "cell_type": "code",
   "execution_count": 764,
   "metadata": {},
   "outputs": [
    {
     "data": {
      "text/plain": [
       "[0.99492,\n",
       " 0.9962,\n",
       " 0.99737,\n",
       " 0.99844,\n",
       " 0.999431,\n",
       " 1.000342,\n",
       " 1.00119,\n",
       " 1.00199,\n",
       " 1.00276,\n",
       " 1.0035,\n",
       " 1.00423,\n",
       " 1.00496,\n",
       " 1.00568,\n",
       " 1.00637,\n",
       " 1.00701,\n",
       " 1.00759,\n",
       " 1.00809,\n",
       " 1.00848,\n",
       " 1.00874,\n",
       " 1.00887,\n",
       " 1.00886,\n",
       " 1.00872,\n",
       " 1.00846,\n",
       " 1.00809,\n",
       " 1.00763,\n",
       " 1.0071,\n",
       " 1.00655,\n",
       " 1.00601,\n",
       " 1.00551,\n",
       " 1.0051,\n",
       " 1.0048,\n",
       " 1.00465,\n",
       " 1.00469,\n",
       " 1.00493,\n",
       " 1.00535,\n",
       " 1.00597,\n",
       " 1.00676,\n",
       " 1.00772,\n",
       " 1.00882,\n",
       " 1.01,\n",
       " 1.0112,\n",
       " 1.0125,\n",
       " 1.0136,\n",
       " 1.0147,\n",
       " 1.0157,\n",
       " 1.0165,\n",
       " 1.0172,\n",
       " 1.0177,\n",
       " 1.018,\n",
       " 1.018,\n",
       " 1.0179,\n",
       " 1.0174,\n",
       " 1.0167,\n",
       " 1.0156,\n",
       " 1.0143,\n",
       " 1.0126,\n",
       " 1.0108,\n",
       " 1.00863,\n",
       " 1.0063,\n",
       " 1.00368,\n",
       " 1.000781,\n",
       " 0.99759,\n",
       " 0.99407,\n",
       " 0.99021,\n",
       " 0.986,\n",
       " 0.9813,\n",
       " 0.9763,\n",
       " 0.9708,\n",
       " 0.965,\n",
       " 0.9587,\n",
       " 0.952,\n",
       " 0.9448,\n",
       " 0.9372,\n",
       " 0.9292,\n",
       " 0.9208,\n",
       " 0.9121,\n",
       " 0.9031,\n",
       " 0.894,\n",
       " 0.885,\n",
       " 0.876,\n",
       " 0.868,\n",
       " 0.86,\n",
       " 0.853,\n",
       " 0.846,\n",
       " 0.84,\n",
       " 0.834,\n",
       " 0.829,\n",
       " 0.8240000000000001,\n",
       " 0.8200000000000001,\n",
       " 0.817,\n",
       " 0.815,\n",
       " 0.812,\n",
       " 0.8109999999999999,\n",
       " 0.81,\n",
       " 0.8089999999999999,\n",
       " 0.808,\n",
       " 0.808,\n",
       " 0.8069999999999999,\n",
       " 0.8069999999999999,\n",
       " 0.8069999999999999,\n",
       " 0.8069999999999999,\n",
       " 0.8069999999999999,\n",
       " 0.8069999999999999,\n",
       " 0.808,\n",
       " 0.808,\n",
       " 0.8089999999999999,\n",
       " 0.8089999999999999,\n",
       " 0.81,\n",
       " 0.8109999999999999,\n",
       " 0.812,\n",
       " 0.813,\n",
       " 0.8140000000000001,\n",
       " 0.8160000000000001,\n",
       " 0.8180000000000001,\n",
       " 0.8200000000000001,\n",
       " 0.8220000000000001,\n",
       " 0.8240000000000001,\n",
       " 0.8260000000000001,\n",
       " 0.8280000000000001,\n",
       " 0.831,\n",
       " 0.833,\n",
       " 0.835,\n",
       " 0.837,\n",
       " 0.839,\n",
       " 0.84,\n",
       " 0.842,\n",
       " 0.844,\n",
       " 0.845,\n",
       " 0.847,\n",
       " 0.849,\n",
       " 0.851,\n",
       " 0.853,\n",
       " 0.855,\n",
       " 0.857,\n",
       " 0.859,\n",
       " 0.862,\n",
       " 0.864,\n",
       " 0.866,\n",
       " 0.868,\n",
       " 0.87,\n",
       " 0.872,\n",
       " 0.874,\n",
       " 0.876,\n",
       " 0.878,\n",
       " 0.879,\n",
       " 0.881,\n",
       " 0.882,\n",
       " 0.884,\n",
       " 0.885,\n",
       " 0.887,\n",
       " 0.888,\n",
       " 0.889,\n",
       " 0.89,\n",
       " 0.892,\n",
       " 0.893,\n",
       " 0.894,\n",
       " 0.896,\n",
       " 0.897,\n",
       " 0.899,\n",
       " 0.901,\n",
       " 0.903,\n",
       " 0.905,\n",
       " 0.9072,\n",
       " 0.9094,\n",
       " 0.9115,\n",
       " 0.9137,\n",
       " 0.9158,\n",
       " 0.9178999999999999,\n",
       " 0.92,\n",
       " 0.9221,\n",
       " 0.9243,\n",
       " 0.9265,\n",
       " 0.9289000000000001,\n",
       " 0.9313,\n",
       " 0.9339,\n",
       " 0.9367,\n",
       " 0.9395,\n",
       " 0.9424,\n",
       " 0.9455,\n",
       " 0.9485,\n",
       " 0.9516,\n",
       " 0.9548,\n",
       " 0.9579,\n",
       " 0.9609,\n",
       " 0.9639,\n",
       " 0.9668,\n",
       " 0.9696,\n",
       " 0.9722,\n",
       " 0.9748,\n",
       " 0.9771,\n",
       " 0.9794,\n",
       " 0.9815,\n",
       " 0.9835,\n",
       " 0.9853,\n",
       " 0.9869,\n",
       " 0.9885,\n",
       " 0.9899,\n",
       " 0.99128,\n",
       " 0.99257,\n",
       " 0.99382,\n",
       " 0.99503,\n",
       " 0.9962,\n",
       " 0.99731,\n",
       " 0.99838,\n",
       " 0.999392,\n",
       " 1.000343,\n",
       " 1.00123,\n",
       " 1.00208,\n",
       " 1.0029,\n",
       " 1.00371,\n",
       " 1.0045,\n",
       " 1.00527,\n",
       " 1.006,\n",
       " 1.00669,\n",
       " 1.00734,\n",
       " 1.00793,\n",
       " 1.00846,\n",
       " 1.00891,\n",
       " 1.00927,\n",
       " 1.00955,\n",
       " 1.00974,\n",
       " 1.0098,\n",
       " 1.00973,\n",
       " 1.00956,\n",
       " 1.00932,\n",
       " 1.00906,\n",
       " 1.00883,\n",
       " 1.00867,\n",
       " 1.00862,\n",
       " 1.0087,\n",
       " 1.00889,\n",
       " 1.00916,\n",
       " 1.00945,\n",
       " 1.00971,\n",
       " 1.00991,\n",
       " 1.01,\n",
       " 1.00999,\n",
       " 1.00989,\n",
       " 1.00972,\n",
       " 1.00951,\n",
       " 1.00928]"
      ]
     },
     "execution_count": 764,
     "metadata": {},
     "output_type": "execute_result"
    }
   ],
   "source": [
    "data"
   ]
  },
  {
   "cell_type": "code",
   "execution_count": 923,
   "metadata": {
    "scrolled": true
   },
   "outputs": [],
   "source": [
    "order = (2,0,1)\n",
    "yh = getPrediction(data, order)"
   ]
  },
  {
   "cell_type": "code",
   "execution_count": 919,
   "metadata": {},
   "outputs": [],
   "source": [
    "X_all = np.arange(len(data)+300)\n",
    "X_all = X_all[len(data)-1:]"
   ]
  },
  {
   "cell_type": "code",
   "execution_count": 920,
   "metadata": {},
   "outputs": [],
   "source": [
    "X = np.arange(len(data))\n",
    "Y = data"
   ]
  },
  {
   "cell_type": "code",
   "execution_count": 924,
   "metadata": {},
   "outputs": [],
   "source": [
    "Y_h = yh[len(data)-1:]"
   ]
  },
  {
   "cell_type": "code",
   "execution_count": 925,
   "metadata": {},
   "outputs": [
    {
     "data": {
      "image/png": "[encoded data removed]",
      "text/plain": [
       "<Figure size 432x288 with 1 Axes>"
      ]
     },
     "metadata": {
      "needs_background": "light"
     },
     "output_type": "display_data"
    }
   ],
   "source": [
    "plt.plot(X,Y,'b')\n",
    "plt.plot(X_all, Y_h, 'r')\n",
    "#plt.savefig('LA_lowinc_emp')\n",
    "#plt.savefig('LA_midinc_emp')\n",
    "#plt.savefig('LA_highinc_emp')\n",
    "#plt.savefig('Chicago_lowinc_emp')\n",
    "#plt.savefig('Chicago_midinc_emp')\n",
    "#plt.savefig('Chicago_highinc_emp')\n",
    "#plt.savefig('Charlotte_lowinc_emp')\n",
    "#plt.savefig('Charlotte_midinc_emp')\n",
    "#plt.savefig('Charlotte_highinc_emp')\n",
    "#plt.savefig('LA_time_at_workplace')\n",
    "#plt.savefig('Chicago_time_at_workplace')\n",
    "#plt.savefig('Charlotte_time_at_workplace')"
   ]
  },
  {
   "cell_type": "code",
   "execution_count": 677,
   "metadata": {},
   "outputs": [
    {
     "data": {
      "text/plain": [
       "<Figure size 432x288 with 0 Axes>"
      ]
     },
     "metadata": {},
     "output_type": "display_data"
    }
   ],
   "source": [
    "plt.savefig('figure11')"
   ]
  },
  {
   "cell_type": "code",
   "execution_count": 661,
   "metadata": {},
   "outputs": [
    {
     "data": {
      "text/plain": [
       "<Figure size 432x288 with 0 Axes>"
      ]
     },
     "metadata": {},
     "output_type": "display_data"
    }
   ],
   "source": [
    "plt.savefig('Charlotte_timeatworkplace')"
   ]
  },
  {
   "cell_type": "code",
   "execution_count": 662,
   "metadata": {},
   "outputs": [
    {
     "name": "stdout",
     "output_type": "stream",
     "text": [
      "[[0.65542073 0.65571675 0.6557492 ]]\n"
     ]
    }
   ],
   "source": [
    "predicted = np.array([[Y_h[100], Y_h[200], Y_h[300]]])\n",
    "print(predicted)"
   ]
  },
  {
   "cell_type": "code",
   "execution_count": 663,
   "metadata": {},
   "outputs": [
    {
     "name": "stdout",
     "output_type": "stream",
     "text": [
      "[[0.68573314 0.68569171 0.68569148]\n",
      " [0.67085032 0.67042095 0.67041471]\n",
      " [0.65542073 0.65571675 0.6557492 ]]\n"
     ]
    }
   ],
   "source": [
    "#mobility = np.append(mobility, predicted, axis=0)\n",
    "print(mobility)"
   ]
  },
  {
   "cell_type": "code",
   "execution_count": 664,
   "metadata": {},
   "outputs": [
    {
     "name": "stdout",
     "output_type": "stream",
     "text": [
      "[[0.68573314 0.68569171 0.68569148]\n",
      " [0.67085032 0.67042095 0.67041471]\n",
      " [0.65542073 0.65571675 0.6557492 ]]\n"
     ]
    }
   ],
   "source": [
    "print(mobility)"
   ]
  },
  {
   "cell_type": "code",
   "execution_count": 564,
   "metadata": {},
   "outputs": [
    {
     "name": "stdout",
     "output_type": "stream",
     "text": [
      "[[0.8039138  0.8044166  0.8044198 ]\n",
      " [0.92187992 0.92077387 0.92067411]\n",
      " [0.97117636 0.96471752 0.96385897]]\n"
     ]
    }
   ],
   "source": [
    "#Charlotte_pred = np.append(Charlotte_pred, predicted, axis=0)\n",
    "print(Charlotte_pred)"
   ]
  },
  {
   "cell_type": "code",
   "execution_count": 565,
   "metadata": {},
   "outputs": [
    {
     "name": "stdout",
     "output_type": "stream",
     "text": [
      "[[0.8039138  0.8044166  0.8044198 ]\n",
      " [0.92187992 0.92077387 0.92067411]\n",
      " [0.97117636 0.96471752 0.96385897]]\n"
     ]
    }
   ],
   "source": [
    "print(Charlotte_pred)"
   ]
  },
  {
   "cell_type": "code",
   "execution_count": 501,
   "metadata": {},
   "outputs": [
    {
     "name": "stdout",
     "output_type": "stream",
     "text": [
      "[[0.         0.         0.        ]\n",
      " [0.76303671 0.79653812 0.80433019]\n",
      " [0.93218844 0.93772236 0.9374523 ]\n",
      " [0.97990234 0.97881136 0.97884061]]\n"
     ]
    }
   ],
   "source": [
    "#Chicago_pred = np.append(Chicago_pred, predicted, axis=0)\n",
    "print(Chicago_pred)"
   ]
  },
  {
   "cell_type": "code",
   "execution_count": 504,
   "metadata": {},
   "outputs": [
    {
     "name": "stdout",
     "output_type": "stream",
     "text": [
      "[[0.76303671 0.79653812 0.80433019]\n",
      " [0.93218844 0.93772236 0.9374523 ]\n",
      " [0.97990234 0.97881136 0.97884061]]\n"
     ]
    }
   ],
   "source": [
    "print(Chicago_pred)"
   ]
  },
  {
   "cell_type": "code",
   "execution_count": 396,
   "metadata": {},
   "outputs": [
    {
     "name": "stdout",
     "output_type": "stream",
     "text": [
      "[[0.         0.         0.        ]\n",
      " [0.89022172 0.8966794  0.89126521]\n",
      " [0.93446523 0.93674871 0.93757553]]\n"
     ]
    }
   ],
   "source": [
    "#LA_pred = np.append(LA_pred, predicted, axis=0)\n",
    "print(LA_pred)"
   ]
  },
  {
   "cell_type": "code",
   "execution_count": 409,
   "metadata": {},
   "outputs": [
    {
     "name": "stdout",
     "output_type": "stream",
     "text": [
      "[[0.84275813 0.82629367 0.82537153]\n",
      " [0.89022172 0.8966794  0.89126521]\n",
      " [0.93446523 0.93674871 0.93757553]]\n"
     ]
    }
   ],
   "source": [
    "print(LA_pred)"
   ]
  },
  {
   "cell_type": "code",
   "execution_count": null,
   "metadata": {},
   "outputs": [],
   "source": [
    "'''\n",
    "Cal, V6, 3,0,5, (data)\n",
    "Cal, V7, 3,0,2 (data cut for 110 days)\n",
    "Cal, V8, 1,0,3\n",
    "'''"
   ]
  },
  {
   "cell_type": "code",
   "execution_count": 567,
   "metadata": {},
   "outputs": [
    {
     "name": "stdout",
     "output_type": "stream",
     "text": [
      "[[0.84275813 0.82629367 0.82537153]\n",
      " [0.89022172 0.8966794  0.89126521]\n",
      " [0.93446523 0.93674871 0.93757553]]\n"
     ]
    }
   ],
   "source": [
    "print(LA_pred)"
   ]
  },
  {
   "cell_type": "code",
   "execution_count": 568,
   "metadata": {},
   "outputs": [
    {
     "name": "stdout",
     "output_type": "stream",
     "text": [
      "[[0.76303671 0.79653812 0.80433019]\n",
      " [0.93218844 0.93772236 0.9374523 ]\n",
      " [0.97990234 0.97881136 0.97884061]]\n"
     ]
    }
   ],
   "source": [
    "print(Chicago_pred)"
   ]
  },
  {
   "cell_type": "code",
   "execution_count": 569,
   "metadata": {},
   "outputs": [
    {
     "name": "stdout",
     "output_type": "stream",
     "text": [
      "[[0.8039138  0.8044166  0.8044198 ]\n",
      " [0.92187992 0.92077387 0.92067411]\n",
      " [0.97117636 0.96471752 0.96385897]]\n"
     ]
    }
   ],
   "source": [
    "print(Charlotte_pred)"
   ]
  },
  {
   "cell_type": "code",
   "execution_count": null,
   "metadata": {},
   "outputs": [],
   "source": []
  }
 ],
 "metadata": {
  "kernelspec": {
   "display_name": "Python 3",
   "language": "python",
   "name": "python3"
  },
  "language_info": {
   "codemirror_mode": {
    "name": "ipython",
    "version": 3
   },
   "file_extension": ".py",
   "mimetype": "text/x-python",
   "name": "python",
   "nbconvert_exporter": "python",
   "pygments_lexer": "ipython3",
   "version": "3.7.4"
  }
 },
 "nbformat": 4,
 "nbformat_minor": 2
}
